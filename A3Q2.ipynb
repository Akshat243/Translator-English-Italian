{
 "cells": [
  {
   "cell_type": "markdown",
   "metadata": {
    "colab_type": "text",
    "id": "wkmuDmbP6NnO"
   },
   "source": [
    "# Assignment 3"
   ]
  },
  {
   "cell_type": "markdown",
   "metadata": {
    "colab_type": "text",
    "id": "SRQx0_vLc7kR"
   },
   "source": [
    "\n",
    "\n",
    "# Question 2.1. Train the sequence to sequence model (Model 1) provided for a language pair where the output is English and the input is a language of your choice.\n",
    "\n",
    "This code translates Italian to English.\n",
    "\n",
    "We followed a tutorial by Sean Robertson at\n",
    "\n",
    "https://github.com/spro/practical-pytorch/blob/master/seq2seq-translation/seq2seq-translation.ipynb\n",
    " "
   ]
  },
  {
   "cell_type": "code",
   "execution_count": 1,
   "metadata": {
    "colab": {},
    "colab_type": "code",
    "id": "6orr22D8c7kS"
   },
   "outputs": [],
   "source": [
    "%matplotlib inline\n",
    "#import matplotlib.pyplot as plt"
   ]
  },
  {
   "cell_type": "markdown",
   "metadata": {
    "colab_type": "text",
    "id": "9vCEqVPZc7kW"
   },
   "source": [
    "In this project we will be teaching a neural network to translate from\n",
    "Italian to English.\n",
    "\n",
    "This is made possible by the simple but powerful idea of the `sequence\n",
    "to sequence network <https://arxiv.org/abs/1409.3215>`__, in which two\n",
    "recurrent neural networks work together to transform one sequence to\n",
    "another. An encoder network condenses an input sequence into a vector,\n",
    "and a decoder network unfolds that vector into a new sequence.\n",
    "\n",
    "To improve upon this model we'll use an `attention\n",
    "mechanism <https://arxiv.org/abs/1409.0473>`__, which lets the decoder\n",
    "learn to focus over a specific range of the input sequence.\n",
    "\n"
   ]
  },
  {
   "cell_type": "code",
   "execution_count": 2,
   "metadata": {
    "colab": {},
    "colab_type": "code",
    "id": "5sA9Ib3zc7kW"
   },
   "outputs": [],
   "source": [
    "from __future__ import unicode_literals, print_function, division\n",
    "from io import open\n",
    "import unicodedata\n",
    "import string\n",
    "import re\n",
    "import random\n",
    "\n",
    "import torch\n",
    "import torch.nn as nn\n",
    "from torch import optim\n",
    "import torch.nn.functional as F\n",
    "\n",
    "device = torch.device(\"cuda\" if torch.cuda.is_available() else \"cpu\")"
   ]
  },
  {
   "cell_type": "markdown",
   "metadata": {
    "colab_type": "text",
    "id": "dI23XsDVc7kZ"
   },
   "source": [
    "# Load data files"
   ]
  },
  {
   "cell_type": "markdown",
   "metadata": {
    "colab_type": "text",
    "id": "6Cdm4VUDc7ka"
   },
   "source": [
    "Similar to the character encoding used in the character-level RNN\n",
    "tutorials, we will be representing each word in a language as a one-hot\n",
    "vector, or giant vector of zeros except for a single one (at the index\n",
    "of the word)."
   ]
  },
  {
   "cell_type": "markdown",
   "metadata": {
    "colab_type": "text",
    "id": "Vfj6s7Wwc7ka"
   },
   "source": [
    "We'll need a unique index per word to use as the inputs and targets of\n",
    "the networks later. To keep track of all this we will use a helper class\n",
    "called ``Lang`` which has word → index (``word2index``) and index → word\n",
    "(``index2word``) dictionaries, as well as a count of each word\n",
    "``word2count`` to use to later replace rare words.\n",
    "\n",
    "\n"
   ]
  },
  {
   "cell_type": "code",
   "execution_count": 3,
   "metadata": {
    "colab": {},
    "colab_type": "code",
    "id": "u72QjRkRc7kb"
   },
   "outputs": [],
   "source": [
    "SOS_token = 0\n",
    "EOS_token = 1\n",
    "\n",
    "class Lang:\n",
    "    def __init__(self, name):\n",
    "        self.name = name\n",
    "        self.word2index = {}\n",
    "        self.word2count = {}\n",
    "        self.index2word = {0: \"SOS\", 1: \"EOS\"}\n",
    "        self.n_words = 2  # Count SOS and EOS\n",
    "\n",
    "    def addSentence(self, sentence):\n",
    "        for word in sentence.split(' '):\n",
    "            self.addWord(word)\n",
    "\n",
    "    def addWord(self, word):\n",
    "        if word not in self.word2index:\n",
    "            self.word2index[word] = self.n_words\n",
    "            self.word2count[word] = 1\n",
    "            self.index2word[self.n_words] = word\n",
    "            self.n_words += 1\n",
    "        else:\n",
    "            self.word2count[word] += 1"
   ]
  },
  {
   "cell_type": "markdown",
   "metadata": {
    "colab_type": "text",
    "id": "uooC9mFFc7ke"
   },
   "source": [
    "The files are all in Unicode, to simplify we will turn Unicode\n",
    "characters to ASCII, make everything lowercase, and trim most\n",
    "punctuation.\n",
    "\n",
    "\n"
   ]
  },
  {
   "cell_type": "code",
   "execution_count": 4,
   "metadata": {
    "colab": {},
    "colab_type": "code",
    "id": "diXcwPQyc7kf"
   },
   "outputs": [],
   "source": [
    "# Turn a Unicode string to plain ASCII, thanks to\n",
    "# https://stackoverflow.com/a/518232/2809427\n",
    "def unicodeToAscii(s):\n",
    "    return ''.join(\n",
    "        c for c in unicodedata.normalize('NFD', s)\n",
    "        if unicodedata.category(c) != 'Mn'\n",
    "    )\n",
    "\n",
    "# Lowercase, trim, and remove non-letter characters\n",
    "\n",
    "def normalizeString(s):\n",
    "    s = unicodeToAscii(s.lower().strip())\n",
    "    s = re.sub(r\"([.!?])\", r\" \\1\", s)\n",
    "    s = re.sub(r\"[^a-zA-Z.!?]+\", r\" \", s)\n",
    "    return s"
   ]
  },
  {
   "cell_type": "code",
   "execution_count": 7,
   "metadata": {
    "colab": {
     "base_uri": "https://localhost:8080/",
     "height": 71,
     "resources": {
      "http://localhost:8080/nbextensions/google.colab/files.js": {
       "data": "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",
       "headers": [
        [
         "content-type",
         "application/javascript"
        ]
       ],
       "ok": true,
       "status": 200,
       "status_text": ""
      }
     }
    },
    "colab_type": "code",
    "id": "wHwW77aTqnsv",
    "outputId": "7316669f-402c-4438-fcb0-d9f96c7efdfb"
   },
   "outputs": [],
   "source": [
    "#from google.colab import files\n",
    "#uploaded = files.upload()\n",
    "\n",
    "#### here choose eng-ita.txt for full\n",
    "#### choose eng-itS.txt for small"
   ]
  },
  {
   "cell_type": "markdown",
   "metadata": {
    "colab_type": "text",
    "id": "lwjMDfr0c7ki"
   },
   "source": [
    "To read the data file we will split the file into lines, and then split\n",
    "lines into pairs. The files are all English → Other Language, so if we\n",
    "want to translate from Other Language → English I added the ``reverse``\n",
    "flag to reverse the pairs.\n",
    "\n",
    "\n"
   ]
  },
  {
   "cell_type": "code",
   "execution_count": 8,
   "metadata": {
    "colab": {},
    "colab_type": "code",
    "id": "157g33mCc7kj"
   },
   "outputs": [],
   "source": [
    "def readLangs(lang1, lang2, reverse = False):\n",
    "    print(\"Reading lines...\")\n",
    "\n",
    "    # Read the file and split into lines\n",
    "\n",
    "    #lines = open('data/%s-%s.txt' % (lang1, lang2), encoding='utf-8').\\\n",
    "    lines = open('%s-%s.txt' % (lang1, lang2), encoding='utf-8').read().strip().\\\n",
    "    translate(str.maketrans('', '', string.punctuation)).split('\\n')\n",
    "\n",
    "    # Split every line into pairs and normalize\n",
    "    pairs = [[normalizeString(s) for s in l.split('\\t')] for l in lines]\n",
    "\n",
    "    # Reverse pairs, make Lang instances\n",
    "    if reverse:\n",
    "        print(\"Reverse is true\")\n",
    "        pairs = [list(reversed(p)) for p in pairs]\n",
    "        input_lang = Lang(lang2)\n",
    "        output_lang = Lang(lang1)\n",
    "    else:\n",
    "        pairs = [list(p) for p in pairs]\n",
    "        input_lang = Lang(lang1)\n",
    "        output_lang = Lang(lang2)\n",
    "\n",
    "    return input_lang, output_lang, pairs"
   ]
  },
  {
   "cell_type": "markdown",
   "metadata": {
    "colab_type": "text",
    "id": "gVBhG0QDc7km"
   },
   "source": [
    "Since there are a *lot* of example sentences and we want to train\n",
    "something quickly, we'll trim the data set to only relatively short and\n",
    "simple sentences. Here the maximum length is 10 words (that includes\n",
    "ending punctuation) and we're filtering to sentences that translate to\n",
    "the form \"I am\" or \"He is\" etc. (accounting for apostrophes replaced\n",
    "earlier).\n",
    "\n",
    "\n"
   ]
  },
  {
   "cell_type": "code",
   "execution_count": 9,
   "metadata": {
    "colab": {},
    "colab_type": "code",
    "id": "yXUQqhjOc7kn"
   },
   "outputs": [],
   "source": [
    "MAX_LENGTH = 10\n",
    "\n",
    "eng_prefixes = (\n",
    "    \"i am \", \"i m \",\n",
    "    \"he is\", \"he s \",\n",
    "    \"she is\", \"she s \",\n",
    "    \"you are\", \"you re \",\n",
    "    \"we are\", \"we re \",\n",
    "    \"they are\", \"they re \"\n",
    ")\n",
    "\n",
    "def filterPair(p):\n",
    "      return len(p[0].split(' ')) < MAX_LENGTH and \\\n",
    "      len(p[1].split(' ')) < MAX_LENGTH # and \\\n",
    "  ####\n",
    "#        (p[1].startswith(eng_prefixes) or p[0].startswith(eng_prefixes))\n",
    "\n",
    "def filterPairs(pairs):\n",
    "    return [pair for pair in pairs if filterPair(pair)]"
   ]
  },
  {
   "cell_type": "markdown",
   "metadata": {
    "colab_type": "text",
    "id": "ha3tCxKlc7kq"
   },
   "source": [
    "The full process for preparing the data is:\n",
    "\n",
    "-  Read text file and split into lines, split lines into pairs\n",
    "-  Normalize text, filter by length and content\n",
    "-  Make word lists from sentences in pairs\n",
    "\n",
    "\n"
   ]
  },
  {
   "cell_type": "code",
   "execution_count": 10,
   "metadata": {
    "colab": {},
    "colab_type": "code",
    "id": "KZ8R0ufgc7kr"
   },
   "outputs": [],
   "source": [
    "def prepareData(lang1, lang2, reverse=False):\n",
    "  \n",
    "    input_lang, output_lang, pairs = readLangs(lang1, lang2, reverse)\n",
    "    print(\"Read %s sentence pairs\" % len(pairs))\n",
    "\n",
    "    #### remove call to filterPairs() when do final training\n",
    "    pairs = filterPairs(pairs)\n",
    "    print(\"Trimmed to %s sentence pairs\" % len(pairs))\n",
    "    print(\"Counting words...\")\n",
    "    for pair in pairs:\n",
    "        input_lang.addSentence(pair[0])\n",
    "        output_lang.addSentence(pair[1])\n",
    "    print(\"Counted words:\")\n",
    "    print(input_lang.name, input_lang.n_words)\n",
    "    print(output_lang.name, output_lang.n_words)\n",
    "    return input_lang, output_lang, pairs\n"
   ]
  },
  {
   "cell_type": "code",
   "execution_count": 11,
   "metadata": {
    "colab": {
     "base_uri": "https://localhost:8080/",
     "height": 170
    },
    "colab_type": "code",
    "id": "i7QmLdK1HhcS",
    "outputId": "9d8c7833-ca56-489e-f813-7b479c4363e2"
   },
   "outputs": [
    {
     "name": "stdout",
     "output_type": "stream",
     "text": [
      "Reading lines...\n",
      "Reverse is true\n",
      "Read 331799 sentence pairs\n",
      "Trimmed to 314351 sentence pairs\n",
      "Counting words...\n",
      "Counted words:\n",
      "ita 25472\n",
      "eng 12427\n",
      "['qual era il problema di tom a riguardo', 'what was toms problem with that']\n"
     ]
    }
   ],
   "source": [
    "# PREPARE DATA TO TRANSLATE FROM ITALIAN TO ENGLISH\n",
    "\n",
    "#### change language here to ita from itS when do final run\n",
    "input_lang, output_lang, pairs = prepareData('eng', 'ita', True)\n",
    "\n",
    "print(random.choice(pairs))"
   ]
  },
  {
   "cell_type": "markdown",
   "metadata": {
    "colab_type": "text",
    "id": "yYcuz4f9c7kw"
   },
   "source": [
    "The Seq2Seq Model\n",
    "=================\n",
    "\n",
    "A Recurrent Neural Network, or RNN, is a network that operates on a\n",
    "sequence and uses its own output as input for subsequent steps.\n",
    "\n",
    "A `Sequence to Sequence network <https://arxiv.org/abs/1409.3215>`__, or\n",
    "seq2seq network, or `Encoder Decoder\n",
    "network <https://arxiv.org/pdf/1406.1078v3.pdf>`__, is a model\n",
    "consisting of two RNNs called the encoder and decoder. The encoder reads\n",
    "an input sequence and outputs a single vector, and the decoder reads\n",
    "that vector to produce an output sequence.\n",
    "\n",
    "Unlike sequence prediction with a single RNN, where every input\n",
    "corresponds to an output, the seq2seq model frees us from sequence\n",
    "length and order, which makes it ideal for translation between two\n",
    "languages.\n",
    "\n",
    "With a seq2seq model the encoder creates a single vector which, in the\n",
    "ideal case, encodes the \"meaning\" of the input sequence into a single\n",
    "vector — a single point in some N dimensional space of sentences.\n",
    "\n",
    "\n"
   ]
  },
  {
   "cell_type": "markdown",
   "metadata": {
    "colab_type": "text",
    "id": "GQuTsH5Lc7kx"
   },
   "source": [
    "The Encoder\n",
    "-----------\n",
    "\n",
    "The encoder of a seq2seq network is a RNN that outputs some value for\n",
    "every word from the input sentence. For every input word the encoder\n",
    "outputs a vector and a hidden state, and uses the hidden state for the\n",
    "next input word.\n",
    "\n"
   ]
  },
  {
   "cell_type": "code",
   "execution_count": 12,
   "metadata": {
    "colab": {},
    "colab_type": "code",
    "id": "ijyEob5Nc7kx"
   },
   "outputs": [],
   "source": [
    "class EncoderRNN(nn.Module):\n",
    "    def __init__(self, input_size, hidden_size):\n",
    "        super(EncoderRNN, self).__init__()\n",
    "        self.hidden_size = hidden_size\n",
    "\n",
    "        self.embedding = nn.Embedding(input_size, hidden_size)\n",
    "        self.gru = nn.GRU(hidden_size, hidden_size)\n",
    "        \n",
    "#        if glove_model == True:\n",
    "#          self.embedding.weight.data.copy_(torch.from_numpy(weights_matrix))\n",
    "    \n",
    "\n",
    "    def forward(self, input, hidden):\n",
    "        embedded = self.embedding(input).view(1, 1, -1)\n",
    "        output = embedded\n",
    "        output, hidden = self.gru(output, hidden)\n",
    "        return output, hidden      \n",
    "\n",
    "    def initHidden(self):\n",
    "        return torch.zeros(1, 1, self.hidden_size, device=device)"
   ]
  },
  {
   "cell_type": "markdown",
   "metadata": {
    "colab_type": "text",
    "id": "nxHf_vR5c7k1"
   },
   "source": [
    "The Decoder\n",
    "-----------\n",
    "\n",
    "The decoder is another RNN that takes the encoder output vector(s) and\n",
    "outputs a sequence of words to create the translation.\n",
    "\n",
    "\n"
   ]
  },
  {
   "cell_type": "markdown",
   "metadata": {
    "colab_type": "text",
    "id": "MZUcFR1Pc7k2"
   },
   "source": [
    "Simple Decoder\n",
    "^^^^^^^^^^^^^^\n",
    "\n",
    "In the simplest seq2seq decoder we use only last output of the encoder.\n",
    "This last output is sometimes called the *context vector* as it encodes\n",
    "context from the entire sequence. This context vector is used as the\n",
    "initial hidden state of the decoder.\n",
    "\n",
    "At every step of decoding, the decoder is given an input token and\n",
    "hidden state. The initial input token is the start-of-string ``<SOS>``\n",
    "token, and the first hidden state is the context vector (the encoder's\n",
    "last hidden state).\n",
    "\n",
    ".. figure:: /_static/img/seq-seq-images/decoder-network.png\n",
    "   :alt:\n",
    "\n",
    "\n",
    "\n"
   ]
  },
  {
   "cell_type": "code",
   "execution_count": 13,
   "metadata": {
    "colab": {},
    "colab_type": "code",
    "id": "YW91Gokkc7k2"
   },
   "outputs": [],
   "source": [
    "class DecoderRNN(nn.Module):\n",
    "    def __init__(self, hidden_size, output_size):\n",
    "        super(DecoderRNN, self).__init__()\n",
    "        self.hidden_size = hidden_size\n",
    "\n",
    "        self.embedding = nn.Embedding(output_size, hidden_size)\n",
    "        self.gru = nn.GRU(hidden_size, hidden_size)\n",
    "        self.out = nn.Linear(hidden_size, output_size)\n",
    "        self.softmax = nn.LogSoftmax(dim=1)\n",
    "\n",
    "    def forward(self, input, hidden):\n",
    "        output = self.embedding(input).view(1, 1, -1)\n",
    "        output = F.relu(output)\n",
    "        output, hidden = self.gru(output, hidden)\n",
    "        output = self.softmax(self.out(output[0]))\n",
    "        return output, hidden\n",
    "\n",
    "    def initHidden(self):\n",
    "        return torch.zeros(1, 1, self.hidden_size, device=device)"
   ]
  },
  {
   "cell_type": "markdown",
   "metadata": {
    "colab_type": "text",
    "id": "STtxLwiDc7k4"
   },
   "source": [
    "I encourage you to train and observe the results of this model, but to\n",
    "save space we'll be going straight for the gold and introducing the\n",
    "Attention Mechanism.\n",
    "\n",
    "\n"
   ]
  },
  {
   "cell_type": "markdown",
   "metadata": {
    "colab_type": "text",
    "id": "sc2S-Nttc7k5"
   },
   "source": [
    "Attention Decoder\n",
    "^^^^^^^^^^^^^^^^^\n",
    "\n",
    "If only the context vector is passed betweeen the encoder and decoder,\n",
    "that single vector carries the burden of encoding the entire sentence.\n",
    "\n",
    "Attention allows the decoder network to \"focus\" on a different part of\n",
    "the encoder's outputs for every step of the decoder's own outputs. First\n",
    "we calculate a set of *attention weights*. These will be multiplied by\n",
    "the encoder output vectors to create a weighted combination. The result\n",
    "(called ``attn_applied`` in the code) should contain information about\n",
    "that specific part of the input sequence, and thus help the decoder\n",
    "choose the right output words.\n",
    "\n",
    ".. figure:: https://i.imgur.com/1152PYf.png\n",
    "   :alt:\n",
    "\n",
    "Calculating the attention weights is done with another feed-forward\n",
    "layer ``attn``, using the decoder's input and hidden state as inputs.\n",
    "Because there are sentences of all sizes in the training data, to\n",
    "actually create and train this layer we have to choose a maximum\n",
    "sentence length (input length, for encoder outputs) that it can apply\n",
    "to. Sentences of the maximum length will use all the attention weights,\n",
    "while shorter sentences will only use the first few.\n",
    "\n",
    ".. figure:: /_static/img/seq-seq-images/attention-decoder-network.png\n",
    "   :alt:\n",
    "\n",
    "\n",
    "\n"
   ]
  },
  {
   "cell_type": "code",
   "execution_count": 14,
   "metadata": {
    "colab": {},
    "colab_type": "code",
    "id": "XHq9E69Qc7k6"
   },
   "outputs": [],
   "source": [
    "class AttnDecoderRNN(nn.Module):\n",
    "    def __init__(self, hidden_size, output_size, dropout_p=0.1, max_length=MAX_LENGTH):\n",
    "        super(AttnDecoderRNN, self).__init__()\n",
    "        self.hidden_size = hidden_size\n",
    "        self.output_size = output_size\n",
    "        self.dropout_p = dropout_p\n",
    "        self.max_length = max_length\n",
    "\n",
    "        self.embedding = nn.Embedding(self.output_size, self.hidden_size)\n",
    "        self.attn = nn.Linear(self.hidden_size * 2, self.max_length)\n",
    "        self.attn_combine = nn.Linear(self.hidden_size * 2, self.hidden_size)\n",
    "        self.dropout = nn.Dropout(self.dropout_p)\n",
    "        self.gru = nn.GRU(self.hidden_size, self.hidden_size)\n",
    "        self.out = nn.Linear(self.hidden_size, self.output_size)\n",
    "\n",
    "    def forward(self, input, hidden, encoder_outputs):\n",
    "        embedded = self.embedding(input).view(1, 1, -1)\n",
    "        embedded = self.dropout(embedded)\n",
    "\n",
    "        attn_weights = F.softmax(\n",
    "            self.attn(torch.cat((embedded[0], hidden[0]), 1)), dim=1)\n",
    "        attn_applied = torch.bmm(attn_weights.unsqueeze(0),\n",
    "                                 encoder_outputs.unsqueeze(0))\n",
    "\n",
    "        output = torch.cat((embedded[0], attn_applied[0]), 1)\n",
    "        output = self.attn_combine(output).unsqueeze(0)\n",
    "\n",
    "        output = F.relu(output)\n",
    "        output, hidden = self.gru(output, hidden)\n",
    "\n",
    "        output = F.log_softmax(self.out(output[0]), dim=1)\n",
    "        return output, hidden, attn_weights\n",
    "\n",
    "    def initHidden(self):\n",
    "        return torch.zeros(1, 1, self.hidden_size, device=device)"
   ]
  },
  {
   "cell_type": "markdown",
   "metadata": {
    "colab_type": "text",
    "id": "Gvf445z8c7k8"
   },
   "source": [
    "<div class=\"alert alert-info\"><h4>Note</h4><p>There are other forms of attention that work around the length\n",
    "  limitation by using a relative position approach. Read about \"local\n",
    "  attention\" in `Effective Approaches to Attention-based Neural Machine\n",
    "  Translation <https://arxiv.org/abs/1508.04025>`__.</p></div>\n",
    "\n",
    "Training\n",
    "========\n",
    "\n",
    "Preparing Training Data\n",
    "-----------------------\n",
    "\n",
    "To train, for each pair we will need an input tensor (indexes of the\n",
    "words in the input sentence) and target tensor (indexes of the words in\n",
    "the target sentence). While creating these vectors we will append the\n",
    "EOS token to both sequences.\n",
    "\n",
    "\n"
   ]
  },
  {
   "cell_type": "code",
   "execution_count": 15,
   "metadata": {
    "colab": {},
    "colab_type": "code",
    "id": "C8qxh3S9c7k8"
   },
   "outputs": [],
   "source": [
    "def indexesFromSentence(lang, sentence):\n",
    "    return [lang.word2index[word] for word in sentence.split(' ')]\n",
    "\n",
    "\n",
    "def tensorFromSentence(lang, sentence):\n",
    "    indexes = indexesFromSentence(lang, sentence)\n",
    "    indexes.append(EOS_token)\n",
    "    return torch.tensor(indexes, dtype=torch.long, device=device).view(-1, 1)\n",
    "\n",
    "\n",
    "def tensorsFromPair(pair):\n",
    "    input_tensor = tensorFromSentence(input_lang, pair[0])\n",
    "    target_tensor = tensorFromSentence(output_lang, pair[1])\n",
    "    return (input_tensor, target_tensor)"
   ]
  },
  {
   "cell_type": "markdown",
   "metadata": {
    "colab_type": "text",
    "id": "RlP5VZaic7k-"
   },
   "source": [
    "Training the Model\n",
    "------------------\n",
    "\n",
    "To train we run the input sentence through the encoder, and keep track\n",
    "of every output and the latest hidden state. Then the decoder is given\n",
    "the ``<SOS>`` token as its first input, and the last hidden state of the\n",
    "encoder as its first hidden state.\n",
    "\n",
    "\"Teacher forcing\" is the concept of using the real target outputs as\n",
    "each next input, instead of using the decoder's guess as the next input.\n",
    "Using teacher forcing causes it to converge faster but `when the trained\n",
    "network is exploited, it may exhibit\n",
    "instability <http://citeseerx.ist.psu.edu/viewdoc/download?doi=10.1.1.378.4095&rep=rep1&type=pdf>`__.\n",
    "\n",
    "You can observe outputs of teacher-forced networks that read with\n",
    "coherent grammar but wander far from the correct translation -\n",
    "intuitively it has learned to represent the output grammar and can \"pick\n",
    "up\" the meaning once the teacher tells it the first few words, but it\n",
    "has not properly learned how to create the sentence from the translation\n",
    "in the first place.\n",
    "\n",
    "Because of the freedom PyTorch's autograd gives us, we can randomly\n",
    "choose to use teacher forcing or not with a simple if statement. Turn\n",
    "``teacher_forcing_ratio`` up to use more of it.\n",
    "\n",
    "\n"
   ]
  },
  {
   "cell_type": "code",
   "execution_count": 16,
   "metadata": {
    "colab": {},
    "colab_type": "code",
    "id": "fEsW7bkjc7k_"
   },
   "outputs": [],
   "source": [
    "teacher_forcing_ratio = 0\n",
    "#### set to 0 when run final training\n",
    "\n",
    "\n",
    "def train(input_tensor, target_tensor, encoder, decoder, encoder_optimizer, decoder_optimizer, criterion, max_length=MAX_LENGTH):\n",
    "    encoder_hidden = encoder.initHidden()\n",
    "\n",
    "    encoder_optimizer.zero_grad()\n",
    "    decoder_optimizer.zero_grad()\n",
    "\n",
    "    input_length = input_tensor.size(0)\n",
    "    target_length = target_tensor.size(0)\n",
    "\n",
    "    encoder_outputs = torch.zeros(max_length, encoder.hidden_size, device=device)\n",
    "\n",
    "    loss = 0\n",
    "\n",
    "    for ei in range(input_length):\n",
    "        encoder_output, encoder_hidden = encoder(\n",
    "            input_tensor[ei], encoder_hidden)\n",
    "        encoder_outputs[ei] = encoder_output[0, 0]\n",
    "\n",
    "    decoder_input = torch.tensor([[SOS_token]], device=device)\n",
    "\n",
    "    decoder_hidden = encoder_hidden\n",
    "\n",
    "    use_teacher_forcing = True if random.random() < teacher_forcing_ratio else False\n",
    "\n",
    "    if use_teacher_forcing:\n",
    "        # Teacher forcing: Feed the target as the next input\n",
    "        for di in range(target_length):\n",
    "            decoder_output, decoder_hidden, decoder_attention = decoder(\n",
    "                decoder_input, decoder_hidden, encoder_outputs)\n",
    "            loss += criterion(decoder_output, target_tensor[di])\n",
    "            decoder_input = target_tensor[di]  # Teacher forcing\n",
    "\n",
    "    else:\n",
    "        # Without teacher forcing: use its own predictions as the next input\n",
    "        for di in range(target_length):\n",
    "            decoder_output, decoder_hidden, decoder_attention = decoder(\n",
    "                decoder_input, decoder_hidden, encoder_outputs)\n",
    "            topv, topi = decoder_output.topk(1)\n",
    "            decoder_input = topi.squeeze().detach()  # detach from history as input\n",
    "\n",
    "            loss += criterion(decoder_output, target_tensor[di])\n",
    "            if decoder_input.item() == EOS_token:\n",
    "                break\n",
    "\n",
    "    loss.backward()\n",
    "\n",
    "    encoder_optimizer.step()\n",
    "    decoder_optimizer.step()\n",
    "\n",
    "    return loss.item() / target_length"
   ]
  },
  {
   "cell_type": "markdown",
   "metadata": {
    "colab_type": "text",
    "id": "359qnKd0c7lB"
   },
   "source": [
    "This is a helper function to print time elapsed and estimated time\n",
    "remaining given the current time and progress %.\n",
    "\n",
    "\n"
   ]
  },
  {
   "cell_type": "code",
   "execution_count": 17,
   "metadata": {
    "colab": {},
    "colab_type": "code",
    "id": "nApjby66c7lB"
   },
   "outputs": [],
   "source": [
    "import time\n",
    "import math\n",
    "\n",
    "\n",
    "def asMinutes(s):\n",
    "    m = math.floor(s / 60)\n",
    "    s -= m * 60\n",
    "    return '%dm %ds' % (m, s)\n",
    "\n",
    "\n",
    "def timeSince(since, percent):\n",
    "    now = time.time()\n",
    "    s = now - since\n",
    "    es = s / (percent)\n",
    "    rs = es - s\n",
    "    return '%s (- %s)' % (asMinutes(s), asMinutes(rs))"
   ]
  },
  {
   "cell_type": "markdown",
   "metadata": {
    "colab_type": "text",
    "id": "T6H712Ntc7lD"
   },
   "source": [
    "The whole training process looks like this:\n",
    "\n",
    "-  Start a timer\n",
    "-  Initialize optimizers and criterion\n",
    "-  Create set of training pairs\n",
    "-  Start empty losses array for plotting\n",
    "\n",
    "Then we call ``train`` many times and occasionally print the progress (%\n",
    "of examples, time so far, estimated time) and average loss.\n",
    "\n",
    "\n"
   ]
  },
  {
   "cell_type": "code",
   "execution_count": 18,
   "metadata": {
    "colab": {},
    "colab_type": "code",
    "id": "R_kv1Az7c7lE"
   },
   "outputs": [],
   "source": [
    "def trainIters(encoder, decoder, n_iters, print_every=1000, plot_every=100, learning_rate=0.01):\n",
    "    start = time.time()\n",
    "    plot_losses = []\n",
    "    print_loss_total = 0  # Reset every print_every\n",
    "    plot_loss_total = 0  # Reset every plot_every\n",
    "\n",
    "    encoder_optimizer = optim.SGD(encoder.parameters(), lr=learning_rate)\n",
    "    decoder_optimizer = optim.SGD(decoder.parameters(), lr=learning_rate)\n",
    "    training_pairs = [tensorsFromPair(random.choice(pairs))\n",
    "                      for i in range(n_iters)]\n",
    "    criterion = nn.NLLLoss()\n",
    "\n",
    "    for iter in range(1, n_iters + 1):\n",
    "        training_pair = training_pairs[iter - 1]\n",
    "        input_tensor = training_pair[0]\n",
    "        target_tensor = training_pair[1]\n",
    "\n",
    "        loss = train(input_tensor, target_tensor, encoder,\n",
    "                     decoder, encoder_optimizer, decoder_optimizer, criterion)\n",
    "        print_loss_total += loss\n",
    "        plot_loss_total += loss\n",
    "\n",
    "        if iter % print_every == 0:\n",
    "            print_loss_avg = print_loss_total / print_every\n",
    "            print_loss_total = 0\n",
    "            print('%s (%d %d%%) %.4f' % (timeSince(start, iter / n_iters),\n",
    "                                         iter, iter / n_iters * 100, print_loss_avg))\n",
    "\n",
    "        if iter % plot_every == 0:\n",
    "            plot_loss_avg = plot_loss_total / plot_every\n",
    "            plot_losses.append(plot_loss_avg)\n",
    "            plot_loss_total = 0\n",
    "\n",
    "    showPlot(plot_losses)"
   ]
  },
  {
   "cell_type": "markdown",
   "metadata": {
    "colab_type": "text",
    "id": "qTSF6aGxc7lG"
   },
   "source": [
    "Plotting results\n",
    "----------------\n",
    "\n",
    "Plotting is done with matplotlib, using the array of loss values\n",
    "``plot_losses`` saved while training.\n",
    "\n",
    "\n"
   ]
  },
  {
   "cell_type": "code",
   "execution_count": 19,
   "metadata": {
    "colab": {},
    "colab_type": "code",
    "id": "yEV9hnHDc7lH"
   },
   "outputs": [],
   "source": [
    "import matplotlib.pyplot as plt\n",
    "plt.switch_backend('agg')\n",
    "import matplotlib.ticker as ticker\n",
    "import numpy as np\n",
    "\n",
    "\n",
    "def showPlot(points):\n",
    "    plt.figure()\n",
    "    fig, ax = plt.subplots()\n",
    "    # this locator puts ticks at regular intervals\n",
    "    loc = ticker.MultipleLocator(base=0.2)\n",
    "    ax.yaxis.set_major_locator(loc)\n",
    "    plt.plot(points)"
   ]
  },
  {
   "cell_type": "markdown",
   "metadata": {
    "colab_type": "text",
    "id": "op6Lopogc7lL"
   },
   "source": [
    "Evaluation\n",
    "==========\n",
    "\n",
    "Evaluation is mostly the same as training, but there are no targets so\n",
    "we simply feed the decoder's predictions back to itself for each step.\n",
    "Every time it predicts a word we add it to the output string, and if it\n",
    "predicts the EOS token we stop there. We also store the decoder's\n",
    "attention outputs for display later.\n",
    "\n",
    "\n"
   ]
  },
  {
   "cell_type": "code",
   "execution_count": 20,
   "metadata": {
    "colab": {},
    "colab_type": "code",
    "id": "1EvFr_npc7lM"
   },
   "outputs": [],
   "source": [
    "def evaluate(encoder, decoder, sentence, max_length=MAX_LENGTH):\n",
    "    with torch.no_grad():\n",
    "        input_tensor = tensorFromSentence(input_lang, sentence)\n",
    "        input_length = input_tensor.size()[0]\n",
    "        encoder_hidden = encoder.initHidden()\n",
    "\n",
    "        encoder_outputs = torch.zeros(max_length, encoder.hidden_size, device=device)\n",
    "\n",
    "        for ei in range(input_length):\n",
    "            encoder_output, encoder_hidden = encoder(input_tensor[ei],\n",
    "                                                     encoder_hidden)\n",
    "            encoder_outputs[ei] += encoder_output[0, 0]\n",
    "\n",
    "        decoder_input = torch.tensor([[SOS_token]], device=device)  # SOS\n",
    "\n",
    "        decoder_hidden = encoder_hidden\n",
    "\n",
    "        decoded_words = []\n",
    "        decoder_attentions = torch.zeros(max_length, max_length)\n",
    "\n",
    "        for di in range(max_length):\n",
    "            decoder_output, decoder_hidden, decoder_attention = decoder(\n",
    "                decoder_input, decoder_hidden, encoder_outputs)\n",
    "            decoder_attentions[di] = decoder_attention.data\n",
    "            topv, topi = decoder_output.data.topk(1)\n",
    "            if topi.item() == EOS_token:\n",
    "                decoded_words.append('<EOS>')\n",
    "                break\n",
    "            else:\n",
    "                decoded_words.append(output_lang.index2word[topi.item()])\n",
    "\n",
    "            decoder_input = topi.squeeze().detach()\n",
    "\n",
    "        return decoded_words, decoder_attentions[:di + 1]"
   ]
  },
  {
   "cell_type": "markdown",
   "metadata": {
    "colab_type": "text",
    "id": "Md4RENTZc7lP"
   },
   "source": [
    "We can evaluate random sentences from the training set and print out the\n",
    "input, target, and output to make some subjective quality judgements:\n",
    "\n",
    "\n"
   ]
  },
  {
   "cell_type": "code",
   "execution_count": 21,
   "metadata": {
    "colab": {},
    "colab_type": "code",
    "id": "xyE5D1mlc7lQ"
   },
   "outputs": [],
   "source": [
    "def evaluateRandomly(encoder, decoder, n=10):\n",
    "    for i in range(n):\n",
    "        pair = random.choice(pairs)\n",
    "        print('>', pair[0])\n",
    "        print('=', pair[1])\n",
    "        output_words, attentions = evaluate(encoder, decoder, pair[0])\n",
    "        output_sentence = ' '.join(output_words)\n",
    "        print('<', output_sentence)\n",
    "        print('')"
   ]
  },
  {
   "cell_type": "markdown",
   "metadata": {
    "colab_type": "text",
    "id": "v6DGIYCCc7lS"
   },
   "source": [
    "Training and Evaluating\n",
    "=======================\n",
    "\n",
    "With all these helper functions in place (it looks like extra work, but\n",
    "it makes it easier to run multiple experiments) we can actually\n",
    "initialize a network and start training.\n",
    "\n",
    "Remember that the input sentences were heavily filtered. For this small\n",
    "dataset we can use relatively small networks of 256 hidden nodes and a\n",
    "single GRU layer. After about 40 minutes on a MacBook CPU we'll get some\n",
    "reasonable results.\n",
    "\n",
    ".. Note::\n",
    "   If you run this notebook you can train, interrupt the kernel,\n",
    "   evaluate, and continue training later. Comment out the lines where the\n",
    "   encoder and decoder are initialized and run ``trainIters`` again.\n",
    "\n",
    "\n"
   ]
  },
  {
   "cell_type": "code",
   "execution_count": 22,
   "metadata": {
    "colab": {
     "base_uri": "https://localhost:8080/",
     "height": 187
    },
    "colab_type": "code",
    "id": "njByC4Gwc7lT",
    "outputId": "d890cc20-2bfd-43b3-f1d7-0df039371b2e"
   },
   "outputs": [
    {
     "name": "stdout",
     "output_type": "stream",
     "text": [
      "5m 17s (- 47m 34s) (25000 10%) 3.6881\n",
      "10m 42s (- 42m 49s) (50000 20%) 3.0849\n",
      "16m 11s (- 37m 47s) (75000 30%) 2.7710\n",
      "21m 44s (- 32m 36s) (100000 40%) 2.5695\n",
      "27m 18s (- 27m 18s) (125000 50%) 2.4404\n",
      "32m 53s (- 21m 55s) (150000 60%) 2.3408\n",
      "38m 29s (- 16m 29s) (175000 70%) 2.2891\n",
      "44m 6s (- 11m 1s) (200000 80%) 2.1983\n",
      "49m 44s (- 5m 31s) (225000 90%) 2.1492\n",
      "55m 22s (- 0m 0s) (250000 100%) 2.1452\n"
     ]
    }
   ],
   "source": [
    "hidden_size = 256\n",
    "glove_model = False\n",
    "encoder1 = EncoderRNN(input_lang.n_words, hidden_size).to(device)\n",
    "attn_decoder1 = AttnDecoderRNN(hidden_size, output_lang.n_words, dropout_p=0.1).to(device)\n",
    "\n",
    "\n",
    "####\n",
    "#trainIters(encoder1, attn_decoder1, 10000, print_every=1000)\n",
    "trainIters(encoder1, attn_decoder1, 250000, print_every=25000)"
   ]
  },
  {
   "cell_type": "code",
   "execution_count": 23,
   "metadata": {
    "colab": {
     "base_uri": "https://localhost:8080/",
     "height": 697
    },
    "colab_type": "code",
    "id": "cOiL8PmBc7lW",
    "outputId": "65d57dbc-da52-417d-f332-7d0f4237e517"
   },
   "outputs": [
    {
     "name": "stdout",
     "output_type": "stream",
     "text": [
      "> lascio casa\n",
      "= he left home\n",
      "< i left <EOS>\n",
      "\n",
      "> perche hai mentito a riguardo\n",
      "= why did you lie about that\n",
      "< why did you lie to that <EOS>\n",
      "\n",
      "> lei resta in contatto con lui\n",
      "= she stays in touch with him\n",
      "< she him him with touch touch with <EOS>\n",
      "\n",
      "> voi avete un ottimo alibi\n",
      "= you have a great alibi\n",
      "< youve have have alibi alibi <EOS>\n",
      "\n",
      "> e sabato\n",
      "= its saturday\n",
      "< she is <EOS>\n",
      "\n",
      "> saluta\n",
      "= say goodbye\n",
      "< write it <EOS>\n",
      "\n",
      "> chi pensi che siamo\n",
      "= who do you think we are\n",
      "< who do you think <EOS>\n",
      "\n",
      "> mi sono divertita a giocare a carte con tom\n",
      "= i had fun playing cards with tom\n",
      "< i took good with with with tom <EOS>\n",
      "\n",
      "> vi siete decisi\n",
      "= did you make up your mind\n",
      "< you you up <EOS>\n",
      "\n",
      "> io sono il piu alto\n",
      "= im the tallest\n",
      "< im the tallest <EOS>\n",
      "\n"
     ]
    }
   ],
   "source": [
    "evaluateRandomly(encoder1, attn_decoder1)"
   ]
  },
  {
   "cell_type": "markdown",
   "metadata": {
    "colab_type": "text",
    "id": "1ZotcwDzc7lY"
   },
   "source": [
    "Visualizing Attention\n",
    "---------------------\n",
    "\n",
    "A useful property of the attention mechanism is its highly interpretable\n",
    "outputs. Because it is used to weight specific encoder outputs of the\n",
    "input sequence, we can imagine looking where the network is focused most\n",
    "at each time step.\n",
    "\n",
    "You could simply run ``plt.matshow(attentions)`` to see attention output\n",
    "displayed as a matrix, with the columns being input steps and rows being\n",
    "output steps:\n",
    "\n",
    "\n"
   ]
  },
  {
   "cell_type": "code",
   "execution_count": 24,
   "metadata": {
    "colab": {
     "base_uri": "https://localhost:8080/",
     "height": 34
    },
    "colab_type": "code",
    "id": "_s9BJwEpc7lY",
    "outputId": "09fee94c-3046-4781-8667-095be89e177c"
   },
   "outputs": [
    {
     "data": {
      "text/plain": [
       "['i', 'cant', 'stand', 'it', '<EOS>']"
      ]
     },
     "execution_count": 24,
     "metadata": {},
     "output_type": "execute_result"
    }
   ],
   "source": [
    "output_words, attentions = evaluate(\n",
    "    encoder1, attn_decoder1, \"non posso aspettarla\")\n",
    "output_words\n",
    "#plt.matshow(attentions.numpy())"
   ]
  },
  {
   "cell_type": "markdown",
   "metadata": {
    "colab_type": "text",
    "id": "Nuy91fUlc7la"
   },
   "source": [
    "For a better viewing experience we will do the extra work of adding axes\n",
    "and labels:\n",
    "\n",
    "\n"
   ]
  },
  {
   "cell_type": "code",
   "execution_count": 25,
   "metadata": {
    "colab": {},
    "colab_type": "code",
    "id": "214s6dYOc7lb"
   },
   "outputs": [],
   "source": [
    "def showAttention(input_sentence, output_words, attentions):\n",
    "    # Set up figure with colorbar\n",
    "    fig = plt.figure()\n",
    "    ax = fig.add_subplot(111)\n",
    "    cax = ax.matshow(attentions.numpy(), cmap='bone')\n",
    "    fig.colorbar(cax)\n",
    "\n",
    "    # Set up axes\n",
    "    ax.set_xticklabels([''] + input_sentence.split(' ') +\n",
    "                       ['<EOS>'], rotation=90)\n",
    "    ax.set_yticklabels([''] + output_words)\n",
    "\n",
    "    # Show label at every tick\n",
    "    ax.xaxis.set_major_locator(ticker.MultipleLocator(1))\n",
    "    ax.yaxis.set_major_locator(ticker.MultipleLocator(1))\n",
    "    #### remove to show plots\n",
    "    #plt.show()\n",
    "\n",
    "\n"
   ]
  },
  {
   "cell_type": "code",
   "execution_count": 26,
   "metadata": {
    "colab": {},
    "colab_type": "code",
    "id": "l_Rqm5taUYlk"
   },
   "outputs": [],
   "source": [
    "def evaluateAndShowAttention(input_sentence):\n",
    "    input_sentenceR = input_sentence.translate(str.maketrans('', '', string.punctuation)).lower()\n",
    "    output_words, attentions = evaluate(\n",
    "        encoder1, attn_decoder1, input_sentenceR)\n",
    "    print('input =', input_sentence)\n",
    "    print('output =', ' '.join(output_words))\n",
    "    showAttention(input_sentence, output_words, attentions)\n"
   ]
  },
  {
   "cell_type": "code",
   "execution_count": 27,
   "metadata": {
    "colab": {
     "base_uri": "https://localhost:8080/",
     "height": 187
    },
    "colab_type": "code",
    "id": "WK_80W_bMXV_",
    "outputId": "bafb69b3-5628-4458-9cb8-07906cf1f2a8"
   },
   "outputs": [
    {
     "name": "stdout",
     "output_type": "stream",
     "text": [
      "input = Sono grosso e grasso.\n",
      "output = im is fat <EOS>\n",
      "input = Tu stai dormendo.\n",
      "output = youre you sleeping <EOS>\n",
      "input = Io sono piu alto di lui.\n",
      "output = im taller than than him <EOS>\n",
      "input = Siamo attori famosi.\n",
      "output = were lucky <EOS>\n",
      "input = Tu starai meglio con me.\n",
      "output = you you better better with me <EOS>\n"
     ]
    }
   ],
   "source": [
    "# EVALUATE ON TEST SENTENCES\n",
    "\n",
    "evaluateAndShowAttention(\"Sono grosso e grasso.\")\n",
    "evaluateAndShowAttention(\"Tu stai dormendo.\")\n",
    "evaluateAndShowAttention(\"Io sono piu alto di lui.\")\n",
    "evaluateAndShowAttention(\"Siamo attori famosi.\")\n",
    "evaluateAndShowAttention(\"Tu starai meglio con me.\")\n"
   ]
  },
  {
   "cell_type": "markdown",
   "metadata": {
    "colab_type": "text",
    "id": "vt0HXoW3WBC-"
   },
   "source": [
    "#Question 2.2. Now train another model (Model 2) for the reverse (i.e., from English to the language you chose). In this model, use the GloVe 100 dimensional embeddings (see notebook 4, cell 2 for an example) while training"
   ]
  },
  {
   "cell_type": "markdown",
   "metadata": {
    "colab_type": "text",
    "id": "TBRf7BqyHFxH"
   },
   "source": [
    "# PREPARE DATA TO TRANSLATE FROM ENGLISH TO ITALIAN\n",
    "\n",
    "#### change language here to ita from itS when do final run\n",
    "input_lang2, output_lang2, pairs = prepareData('eng', 'ita', False)\n",
    "print(random.choice(pairs))"
   ]
  },
  {
   "cell_type": "markdown",
   "metadata": {
    "colab_type": "text",
    "id": "EhxzOmkPXVB-"
   },
   "source": [
    "# First let's try the existing model on Italian to English translations\n",
    "# TRAIN MODEL\n",
    "\n",
    "# MODEL ARCHITECTURE\n",
    "hidden_size = 256\n",
    "encoder1 = EncoderRNN(input_lang2.n_words, hidden_size).to(device)\n",
    "attn_decoder1 = AttnDecoderRNN(hidden_size, output_lang2.n_words, dropout_p=0.1).to(device)\n",
    "\n",
    "# TRAIN MODEL\n",
    "#trainIters(encoder1, attn_decoder1, 75000, print_every=5000)\n",
    "trainIters(encoder1, attn_decoder1, 750, print_every=100)\n",
    "\n",
    "# EVALUATE\n",
    "evaluateRandomly(encoder1, attn_decoder1)\n",
    "\n",
    "# TEST ON FIVE SENTENCES\n",
    "evaluateAndShowAttention(\"I am walking to the store.\")\n",
    "evaluateAndShowAttention(\"This dinner is delicious.\")\n",
    "evaluateAndShowAttention(\"My mother lived in a white house.\")\n",
    "evaluateAndShowAttention(\"He has three friends.\")\n",
    "evaluateAndShowAttention(\"I love a good red wine.\")\n"
   ]
  },
  {
   "cell_type": "markdown",
   "metadata": {
    "colab_type": "text",
    "id": "UZdOnMLAlo3s"
   },
   "source": [
    "print(input_lang2.n_words)\n",
    "print(hidden_size)"
   ]
  },
  {
   "cell_type": "markdown",
   "metadata": {
    "colab_type": "text",
    "id": "W6_S96cqQnok"
   },
   "source": [
    "# USING GloVe 100\n",
    "NOW LET'S FIGURE OUT HOW TO CHANGE THE INPUT TO THE DECODER. IN THE FIRST PART, WE DEVELOPED THE ENCODINGS FROM OUR VOCABULARY USING ONE HOT ENCODING. HERE, WE WILL USE THE GLOVE ENCODINGS AS OUR INITIAL WEIGHTS\n",
    "\n",
    "We followed this tutorial and article on loading and using the GloVe embeddings\n",
    "\n",
    "https://github.com/bentrevett/pytorch-sentiment-analysis/blob/master/B%20-%20A%20Closer%20Look%20at%20Word%20Embeddings.ipynb\n",
    "\n",
    "https://medium.com/@martinpella/how-to-use-pre-trained-word-embeddings-in-pytorch-71ca59249f76"
   ]
  },
  {
   "cell_type": "code",
   "execution_count": 28,
   "metadata": {
    "colab": {},
    "colab_type": "code",
    "id": "EUpz7CPioizR"
   },
   "outputs": [],
   "source": [
    "import torch\n",
    "from torchtext import data\n",
    "from torchtext import datasets\n",
    "import random\n"
   ]
  },
  {
   "cell_type": "code",
   "execution_count": 29,
   "metadata": {
    "colab": {
     "base_uri": "https://localhost:8080/",
     "height": 153
    },
    "colab_type": "code",
    "id": "IrvitB1lIEVL",
    "outputId": "cf876966-7bfa-4012-f80e-d0675793aeee"
   },
   "outputs": [
    {
     "name": "stdout",
     "output_type": "stream",
     "text": [
      "Reading lines...\n",
      "Read 331799 sentence pairs\n",
      "Trimmed to 314351 sentence pairs\n",
      "Counting words...\n",
      "Counted words:\n",
      "eng 12427\n",
      "ita 25472\n",
      "['they named their dog lucky', 'loro chiamarono il loro cane lucky']\n"
     ]
    }
   ],
   "source": [
    "\n",
    "\n",
    "# PREPARE DATA TO TRANSLATE FROM ENGLISH TO ITALIAN (set to false, so english is lang 1)\n",
    "\n",
    "#### change language here to ita from itS when do final run\n",
    "input_lang, output_lang, pairs = prepareData('eng', 'ita', False)\n",
    "print(random.choice(pairs))"
   ]
  },
  {
   "cell_type": "code",
   "execution_count": 30,
   "metadata": {
    "colab": {
     "base_uri": "https://localhost:8080/",
     "height": 34
    },
    "colab_type": "code",
    "id": "IVVl0MBKNlU7",
    "outputId": "2b56d837-8f26-4eb8-9c36-5ef32f8596ee"
   },
   "outputs": [
    {
     "name": "stdout",
     "output_type": "stream",
     "text": [
      "There are 400000 words in the vocabulary\n"
     ]
    }
   ],
   "source": [
    "\n",
    "import torchtext.vocab\n",
    "\n",
    "glove = torchtext.vocab.GloVe(name = '6B', dim = 100)\n",
    "\n",
    "print(f'There are {len(glove.itos)} words in the vocabulary')"
   ]
  },
  {
   "cell_type": "markdown",
   "metadata": {
    "colab_type": "text",
    "id": "m08fTHBxzG42"
   },
   "source": [
    "The returned GloVe object includes attributes:\n",
    "\n",
    "-stoi string-to-index returns a dictionary of words to indexes\n",
    "\n",
    "-itos index-to-string returns an array of words by index\n",
    "\n",
    "-vectors returns the actual vectors. To get a word vector get the index to get the vector:"
   ]
  },
  {
   "cell_type": "code",
   "execution_count": 31,
   "metadata": {
    "colab": {
     "base_uri": "https://localhost:8080/",
     "height": 34
    },
    "colab_type": "code",
    "id": "GwSSmsvcNlYJ",
    "outputId": "e4a4f256-3eca-4d0c-ec37-edaba0c99b01"
   },
   "outputs": [
    {
     "data": {
      "text/plain": [
       "torch.Size([400000, 100])"
      ]
     },
     "execution_count": 31,
     "metadata": {},
     "output_type": "execute_result"
    }
   ],
   "source": [
    "# dimensions of vectors\n",
    "glove.vectors.shape"
   ]
  },
  {
   "cell_type": "code",
   "execution_count": 32,
   "metadata": {
    "colab": {},
    "colab_type": "code",
    "id": "LARKDKlBt0Ug"
   },
   "outputs": [],
   "source": [
    "def get_embedding(word):\n",
    "    return glove.vectors[glove.stoi[word]]"
   ]
  },
  {
   "cell_type": "code",
   "execution_count": 33,
   "metadata": {
    "colab": {
     "base_uri": "https://localhost:8080/",
     "height": 34
    },
    "colab_type": "code",
    "id": "zlrrNVMNNlbG",
    "outputId": "19672974-a8c8-42a4-b961-b18fa446a97b"
   },
   "outputs": [
    {
     "data": {
      "text/plain": [
       "['the', ',', '.', 'of', 'to', 'and', 'in', 'a', '\"', \"'s\"]"
      ]
     },
     "execution_count": 33,
     "metadata": {},
     "output_type": "execute_result"
    }
   ],
   "source": [
    "# top 10 words\n",
    "glove.itos[:10]"
   ]
  },
  {
   "cell_type": "code",
   "execution_count": 34,
   "metadata": {
    "colab": {
     "base_uri": "https://localhost:8080/",
     "height": 34
    },
    "colab_type": "code",
    "id": "PWamprsFBTTK",
    "outputId": "68cb41f6-86c1-4a41-a355-bcd1678e0150"
   },
   "outputs": [
    {
     "data": {
      "text/plain": [
       "2867"
      ]
     },
     "execution_count": 34,
     "metadata": {},
     "output_type": "execute_result"
    }
   ],
   "source": [
    "glove.stoi['horse']"
   ]
  },
  {
   "cell_type": "markdown",
   "metadata": {
    "colab_type": "text",
    "id": "YkspE8zQz0bh"
   },
   "source": []
  },
  {
   "cell_type": "code",
   "execution_count": 35,
   "metadata": {
    "colab": {
     "base_uri": "https://localhost:8080/",
     "height": 238
    },
    "colab_type": "code",
    "id": "0C1U4jlBy2GB",
    "outputId": "26befa3b-af22-4095-ecab-2455070cded6"
   },
   "outputs": [
    {
     "data": {
      "text/plain": [
       "tensor([ 0.5179,  0.3962,  0.2472, -0.5844, -0.1586, -0.1102,  0.2165,  0.4236,\n",
       "        -0.3006, -0.6232, -0.3979,  0.8369,  0.9012, -0.5920, -0.4431,  0.5162,\n",
       "         0.4842, -0.1131,  0.2091, -0.0192,  0.7597, -0.0308, -0.0892, -1.2704,\n",
       "         0.6240,  0.5687, -1.0596, -0.3601,  0.2804,  0.0514, -0.4561, -0.3268,\n",
       "         0.3975, -0.3634,  0.9031,  0.6263, -1.2037,  0.5927,  0.2759,  0.3832,\n",
       "         0.4349,  0.0909, -0.0571, -1.3353, -0.1076, -0.0985, -0.4497, -0.5063,\n",
       "         0.4927, -1.0391, -0.6060,  0.0519,  0.5007,  0.6970,  0.2069, -1.4953,\n",
       "        -0.4424,  0.6916,  1.0389,  0.1846,  0.4320,  0.9502,  0.5237,  1.2069,\n",
       "         1.1042,  0.5904, -0.5393, -0.1903,  0.4055,  0.5285, -0.3223,  0.0379,\n",
       "         0.0969,  0.3456,  0.3104,  0.1461,  0.2462,  0.1726, -0.5111, -0.4004,\n",
       "         0.3375,  0.2234, -0.0548,  0.4452, -0.1311, -0.2883, -0.9907, -0.2414,\n",
       "         0.3735, -0.2088, -0.8067, -1.0341,  0.2646,  0.4033, -0.5369, -0.5935,\n",
       "        -0.5144, -0.1386,  0.9348, -0.4092])"
      ]
     },
     "execution_count": 35,
     "metadata": {},
     "output_type": "execute_result"
    }
   ],
   "source": [
    "get_embedding('horse')"
   ]
  },
  {
   "cell_type": "code",
   "execution_count": 36,
   "metadata": {
    "colab": {
     "base_uri": "https://localhost:8080/",
     "height": 88
    },
    "colab_type": "code",
    "id": "InRFROjmz1GU",
    "outputId": "2949147f-7967-46c4-cf49-25d66d17a073"
   },
   "outputs": [
    {
     "name": "stdout",
     "output_type": "stream",
     "text": [
      "Number of pairs, or translated phrases, is: 314351\n",
      "Number of unique English words in our corpus: 12424\n",
      "Some examples are ['bred', 'expressway', 'tune', 'failure', 'deed', 'gets', 'barbarians', 'hibernate', 'acclaimed', 'mind', 'luxury', 'apes', 'walked', 'buddhist', 'minimum', 'finding', 'molecule', 'quoted', 'cards', 'experimented', 'foretell', 'breed', 'buries', 'tied', 'slaughter', 'xiaoli', 'championship', 'killers', 'grilled', 'deadend', 'perspiring', 'status', 'pepperoni', 'unsettled', 'spies', 'frighten', 'absurdly', 'devious', 'administrative', 'father', 'criticisms', 'abolished', 'reader', 'professors', 'september', 'bookworm', 'collapse', 'shiro', 'piling', 'restricted', 'tickle', 'nobel', 'refreshments', 'bookshelf', 'tvs', 'protege', 'slaves', 'crime', 'johns', 'faintly', 'baptized', 'gymnast', 'whackjob', 'specialties', 'photocopier', 'kissing', 'mortal', 'wants', 'insolent', 'bungee', 'negotiable', 'peeked', 'body', 'sympathetically', 'pilots', 'custom', 'companies', 'picture', 'critic', 'heavy', 'fulltime', 'ruin', 'panting', 'flights', 'ominous', 'adapted', 'renovating', 'thesis', 'expelled', 'exact', 'stared', 'equilateral', 'doorknob', 'cleaning', 'oclock', 'satellites', 'mugged', 'peanuts', 'rockefeller', 'bulb', 'lying', 'silenced', 'preferences', 'stained', 'ideal', 'parts', 'shampoo', 'apartments', 'dr', 'bikes', 'itself', 'gnp', 'ulaanbaatar', 'youd', 'pneumonia', 'produced', 'flames', 'tangerines', 'champion', 'slavery', 'lollipop', 'hideout', 'fanatics', 'power', 'username', 'defective', 'roger', 'wheelbarrow', 'forged', 'bellyaching', 'languages', 'straw', 'gullivers', 'japaneseenglish', 'soundproof', 'puppies', 'natural', 'succeeding', 'connected', 'merciless', 'vary', 'ploughed', 'bookmarked', 'certain', 'orange', 'tate', 'seine', 'chew', 'peninsula', 'leave', 'leaves', 'hasnt', 'pizzas', 'shares', 'choked', 'explorers', 'quicktempered', 'pleaded', 'catcher', 'stays', 'iowa', 'scorned', 'temples', 'domineering', 'discussed', 'property', 'deposit', 'leaking', 'random', 'blackjack', 'chained', 'backup', 'citizen', 'baker', 'grand', 'ecstatic', 'sauce', 'aim', 'metals', 'disrespect', 'pounding', 'single', 'scribble', 'computergenerated', 'guard', 'compilation', 'gold', 'ruthless', 'suceeded', 'fetch', 'panther', 'bleed', 'cafeterias', 'foreigner', 'prosecutor', 'epidemic', 'build', 'laughs', 'patients', 'ireland', 'cleanshaven', 'arbitrarily', 'liliuokalani', 'spelling', 'remember', 'julius', 'exports', 'anxiety', 'stalled', 'chat', 'first', 'knocked', 'tuner', 'recycled', 'gel', 'elders', 'intolerable', 'juice', 'mock', 'evicted', 'boot', 'honest', 'involuntary', 'nuts', 'art', 'factors', 'flipped', 'attempts', 'tumor', 'resident', 'birthplace', 'inappropriate', 'jackson', 'lowbudget', 'horseback', 'anna', 'blocked', 'wind', 'wouldve', 'tenure', 'misleading', 'mummy', 'race', 'then', 'elderly', 'desk', 'strongly', 'pretending', 'gonna', 'spa', 'dignity', 'barged', 'safest', 'maximum', 'signals', 'miles', 'maintained', 'soil', 'spending', 'arithmetic', 'at', 'condition', 're', 'kaiser', 'expressionless', 'dawn', 'poured', 'err', 'clam', 'staff', 'railway', 'shaking', 'absorb', 'gossip', 'strangled', 'union', 'barbed', 'lease', 'coup', 'have', 'facebook', 'suspicions', 'feudal', 'do', 'adults', 'wood', 'indebted', 'fashion', 'demolish', 'this', 'letters', 'border', 'guitars', 'crackpot', 'pheasant', 'heater', 'yourselves', 'emphatic', 'dropping', 'lenses', 'judgment', 'phones', 'constantly', 'multi', 'hermit', 'directness', 'costs', 'mop', 'aspirations', 'timid', 'essay', 'hindus', 'builtin', 'pyramids', 'nephew', 'promoted', 'meeting', 'citizenship', 'armchair', 'dart', 'burns', 'start', 'southeastern', 'from', 'irrelevant', 'overbite', 'liberty', 'sedimentary', 'puts', 'collaboration', 'sighed', 'sportsman', 'calculated', 'employed', 'rises', 'bullfighting', 'stuffs', 'colds', 'prevented', 'cuban', 'finishing', 'fights', 'signify', 'piled', 'card', 'fanatical', 'evolution', 'sending', 'malt', 'tools', 'wellmannered', 'encyclopedic', 'hesitation', 'sympathize', 'shape', 'elope', 'male', 'oiling', 'intriguing', 'winners', 'opponent', 'nextdoor', 'swallow', 'plucked', 'inch', 'apology', 'hometown', 'age', 'heartily', 'critics', 'sisterinlaw', 'bombing', 'afford', 'faridas', 'drive', 'create', 'lighten', 'recovery', 'barked', 'argument', 'startled', 'focus', 'indistinguishable', 'indian', 'funeral', 'dumbest', 'precise', 'tortellini', 'brake', 'row', 'roof', 'songs', 'persian', 'flows', 'gained', 'strengthens', 'freud', 'intuition', 'ashburton', 'generates', 'everybodys', 'san', 'accelerated', 'disappearing', 'mammal', 'puzzling', 'greatlooking', 'details', 'hood', 'melted', 'request', 'libraries', 'blabbermouth', 'distracts', 'activity', 'firefighter', 'paths', 'resentful', 'blaming', 'idiot', 'known', 'alphabetical', 'fewer', 'participate', 'unconventional', 'gasped', 'takubokus', 'cholera', 'hey', 'treason', 'around', 'devil', 'sugary', 'creams', 'vast', 'unfortunate', 'swore', 'spaghetti', 'entered', 'sharks', 'debatable', 'ointment', 'carbohydrates', 'interrupted', 'emptied', 'spark', 'forte', 'unimaginable', 'yoghurt', 'shaved', 'hidden', 'post', 'identity', 'wreck', 'longing', 'extremes', 'lied', 'undesirable', 'minds', 'smirked', 'wished', 'breathed', 'slipped', 'appalled', 'mankind', 'hatchet', 'appointments', 'musicologist', 'asthma', 'craters', 'speechwriter', 'chess', 'tragic', 'succeeded', 'pattern', 'disturbing', 'ds', 'counterfeit', 'hemoglobin', 'moneylaundering', 'vibrated', 'object', 'quickly', 'taiwan', 'inserted', 'humility', 'leader', 'liter', 'stubborn', 'quesadillas', 'burn', 'abusive', 'inexperience', 'helpless', 'soda', 'suitcase', 'awards', 'mule', 'reacted', 'mountaineering']\n"
     ]
    }
   ],
   "source": [
    "# Get a list of all english words in our dataset\n",
    "print(\"Number of pairs, or translated phrases, is:\", len(pairs))\n",
    "eng_words = [el[0] for el in pairs]\n",
    "a = []\n",
    "for word in eng_words:\n",
    "  a += word.split()\n",
    "eng_vocabulary = list(set(a))\n",
    "print('Number of unique English words in our corpus:', len(eng_vocabulary))\n",
    "print('Some examples are', eng_vocabulary[3000:3500])\n",
    "\n",
    "\n"
   ]
  },
  {
   "cell_type": "markdown",
   "metadata": {
    "colab_type": "text",
    "id": "oRLplfcF54cC"
   },
   "source": [
    "We must build a matrix of weights that will be loaded into the PyTorch embedding layer. Its shape will be equal to:\n",
    "(dataset’s vocabulary length, word vectors dimension).\n",
    "For each word in dataset’s vocabulary, we check if it is on GloVe’s vocabulary. If it do it, we load its pre-trained word vector. Otherwise, we initialize a random vector."
   ]
  },
  {
   "cell_type": "code",
   "execution_count": 37,
   "metadata": {
    "colab": {},
    "colab_type": "code",
    "id": "wyrLrMZ5IY63"
   },
   "outputs": [],
   "source": [
    "# This finds the weight matrix from GloVe for each English word in our corpus\n",
    "\n",
    "emb_dim = 100\n",
    "#matrix_len = len(eng_vocabulary)\n",
    "matrix_len = input_lang.n_words\n",
    "weights_matrix = np.zeros((matrix_len, 100))\n",
    "words_found = 0\n",
    "\n",
    "for i, word in enumerate(eng_vocabulary):\n",
    "    try: \n",
    "        weights_matrix[i] = get_embedding(word)\n",
    "        words_found += 1\n",
    "    except KeyError:\n",
    "        weights_matrix[i] = np.random.normal(scale=0.6, size=(emb_dim, ))\n",
    "        "
   ]
  },
  {
   "cell_type": "code",
   "execution_count": 38,
   "metadata": {
    "colab": {
     "base_uri": "https://localhost:8080/",
     "height": 663
    },
    "colab_type": "code",
    "id": "HE9AbeRh7uy9",
    "outputId": "b1d6a210-b8d4-4113-82d2-aae14c4a1f07"
   },
   "outputs": [
    {
     "name": "stdout",
     "output_type": "stream",
     "text": [
      "word is obstructed\n",
      "index is 334\n",
      "weight matrix is [ 0.013554   -0.043476    0.047454    0.54572999  0.022044    0.33779001\n",
      " -0.10829     0.92881     1.32959998 -0.43035999  0.32609999  0.80293\n",
      "  0.22702    -0.13998     0.088069    0.0014781  -0.34150001  0.25917\n",
      " -0.059105   -0.45673001 -0.32931    -0.069961    0.17648999 -0.11162\n",
      "  0.16632999 -0.097215   -0.46689999 -0.23040999  0.044397   -0.38117999\n",
      "  0.93879002 -0.26333001 -0.37691     0.023119    0.059446    0.24518\n",
      " -0.011433    0.26422     0.0384      1.278      -0.84948999 -0.13229001\n",
      "  0.62180001  0.46555999  0.14456999  0.2421      0.26716    -0.48725\n",
      "  0.31935    -0.52974999  0.46819001 -0.063646   -0.0093993   0.53381002\n",
      " -0.20479     0.27785     1.30859995  0.31165999  0.28353    -0.44971001\n",
      " -0.41514999 -0.30500999  0.26673001  0.37079    -0.17572001 -0.49259001\n",
      "  0.74541998 -0.23011     0.18179999 -0.54519999  0.099276   -0.30948001\n",
      "  0.54930001 -0.72226     0.1312     -0.78991002  0.15332     0.21087\n",
      " -0.25734001 -0.22723    -0.029186    1.11070001  0.037116    0.85101002\n",
      " -0.36541    -0.14040001  0.43770999  1.07990003 -0.40513    -0.36528999\n",
      " -0.1153     -0.85845    -0.59252     0.18829     0.94237     0.055058\n",
      " -0.1857      0.053452   -0.049364   -0.24187   ]\n",
      "word is resigned\n",
      "index is 1234\n",
      "weight matrix is [ 0.045817   -0.84249997 -0.52446002 -0.53785998  0.29912999  0.12263\n",
      "  0.27291     0.20296     0.51143003 -0.079506    0.097108    0.20618001\n",
      "  0.14572001  0.25031     0.045895   -0.78185999  0.18234999  0.296\n",
      " -0.49518001 -0.31931001 -0.27972999  0.20345999  0.058511    0.076666\n",
      " -0.78561997 -0.56307    -0.083797    0.25841999  1.04110003  0.50927001\n",
      "  0.89384001  0.69928998 -0.97522998 -1.0977     -1.41709995  0.61193001\n",
      " -0.17304    -0.10176    -0.27614    -0.16072001 -0.92949998 -0.078238\n",
      "  1.20889997 -0.84601998  0.26372001  0.84559     0.42561001  0.023604\n",
      "  0.62146997 -0.82056999  0.30834001 -1.10860002  0.18269999  0.55132002\n",
      " -0.35887    -1.70389998 -0.051876   -0.18787999  0.47951001  0.92135\n",
      "  0.046417   -0.44909    -0.42095    -0.062738    0.38538    -0.67844999\n",
      "  0.48688     0.19117001  0.022131    0.72064    -0.054182    0.46507001\n",
      " -0.93697    -0.39423001 -0.67145997 -0.21613    -0.95605999  0.56182998\n",
      " -0.80792999 -0.080722    0.005736   -0.26192001  0.34849    -0.19434001\n",
      " -0.18363    -0.91929001  0.069809    0.62712002 -0.11744    -0.87413001\n",
      "  0.22623    -0.44758999 -0.11377     1.29069996 -0.05771     0.71143001\n",
      " -0.023671    0.55720001  0.11522    -0.36309999]\n"
     ]
    }
   ],
   "source": [
    "# take a look at the values we have for a couple examples, at index i = ?\n",
    "\n",
    "i = 334\n",
    "print(\"word is\", eng_vocabulary[i])\n",
    "print(\"index is\", i)\n",
    "print('weight matrix is', weights_matrix[i])\n",
    "\n",
    "i = 1234\n",
    "print(\"word is\", eng_vocabulary[i])\n",
    "print(\"index is\", i)\n",
    "print('weight matrix is', weights_matrix[i])\n"
   ]
  },
  {
   "cell_type": "code",
   "execution_count": 39,
   "metadata": {
    "colab": {
     "base_uri": "https://localhost:8080/",
     "height": 51
    },
    "colab_type": "code",
    "id": "4UvxyUyU5ffx",
    "outputId": "65bd1519-ec8d-4db8-ee4f-d00237b888fa"
   },
   "outputs": [
    {
     "name": "stdout",
     "output_type": "stream",
     "text": [
      "12427\n"
     ]
    },
    {
     "data": {
      "text/plain": [
       "12424"
      ]
     },
     "execution_count": 39,
     "metadata": {},
     "output_type": "execute_result"
    }
   ],
   "source": [
    "print(input_lang.n_words)\n",
    "len(eng_vocabulary)"
   ]
  },
  {
   "cell_type": "code",
   "execution_count": 40,
   "metadata": {
    "colab": {
     "base_uri": "https://localhost:8080/",
     "height": 153
    },
    "colab_type": "code",
    "id": "FdQw3zzFzpW0",
    "outputId": "80d6bfb8-2829-405b-fd67-8c55cd94cc53"
   },
   "outputs": [
    {
     "name": "stdout",
     "output_type": "stream",
     "text": [
      "Reading lines...\n",
      "Read 331799 sentence pairs\n",
      "Trimmed to 314351 sentence pairs\n",
      "Counting words...\n",
      "Counted words:\n",
      "eng 12427\n",
      "ita 25472\n",
      "['dont you like working with me', 'non vi piace lavorare con me']\n"
     ]
    }
   ],
   "source": [
    "# Training\n",
    "\n",
    "# PREPARE DATA TO TRANSLATE FROM ENGLISH TO ITALIAN (set to false, so english is lang 1)\n",
    "\n",
    "#### change language here to ita from itS when do final run\n",
    "input_lang2, output_lang2, pairs = prepareData('eng', 'ita', False)\n",
    "print(random.choice(pairs))"
   ]
  },
  {
   "cell_type": "code",
   "execution_count": 43,
   "metadata": {
    "colab": {},
    "colab_type": "code",
    "id": "RzKUwpKMCKOv"
   },
   "outputs": [],
   "source": [
    "glove_model = True\n",
    "hidden_size = 100\n",
    "embedding = nn.Embedding(input_lang2.n_words, hidden_size)\n",
    "embedding.weight.data.copy_(torch.from_numpy(weights_matrix))\n",
    "encoder2 = EncoderRNN(input_lang2.n_words, hidden_size).to(device)\n",
    "attn_decoder2 = AttnDecoderRNN(hidden_size, output_lang2.n_words, dropout_p=0.1).to(device)\n",
    "\n",
    "\n"
   ]
  },
  {
   "cell_type": "code",
   "execution_count": 44,
   "metadata": {
    "colab": {
     "base_uri": "https://localhost:8080/",
     "height": 1000
    },
    "colab_type": "code",
    "id": "QSA1jZhuIRRn",
    "outputId": "6aaece22-a901-4e28-d557-b26b39a216ab"
   },
   "outputs": [
    {
     "name": "stdout",
     "output_type": "stream",
     "text": [
      "3m 31s (- 31m 45s) (25000 10%) 4.1393\n",
      "7m 11s (- 28m 47s) (50000 20%) 3.9123\n",
      "10m 56s (- 25m 31s) (75000 30%) 3.6975\n",
      "14m 43s (- 22m 5s) (100000 40%) 3.5549\n",
      "18m 33s (- 18m 33s) (125000 50%) 3.4339\n",
      "22m 23s (- 14m 55s) (150000 60%) 3.3488\n",
      "26m 14s (- 11m 14s) (175000 70%) 3.2837\n",
      "30m 6s (- 7m 31s) (200000 80%) 3.2025\n",
      "33m 58s (- 3m 46s) (225000 90%) 3.1509\n",
      "37m 49s (- 0m 0s) (250000 100%) 3.1267\n",
      "> i went there dozens of times\n",
      "= sono andata la dozzine di volte\n",
      "< io sono li <EOS>\n",
      "\n",
      "> shes wearing a greatlooking hat\n",
      "= lei indossa un cappello meraviglioso\n",
      "< e e una una <EOS>\n",
      "\n",
      "> you love christmas dont you\n",
      "= tu ami il natale vero\n",
      "< tu e vero vero <EOS>\n",
      "\n",
      "> tom removed the bandages from marys leg\n",
      "= tom ha tolto le bende dalla gamba di mary\n",
      "< tom ha le il dal da <EOS>\n",
      "\n",
      "> tom considered the possibility of not going\n",
      "= tom ha considerato la possibilita di non andare\n",
      "< tom ha il il di di <EOS>\n",
      "\n",
      "> i dont feel like watching tv tonight\n",
      "= non mi va di guardare la tv stasera\n",
      "< non mi piace di di la <EOS>\n",
      "\n",
      "> has prison changed him\n",
      "= la prigione lo ha cambiato\n",
      "< e letto <EOS>\n",
      "\n",
      "> i decided to study abroad\n",
      "= ho deciso di studiare allestero\n",
      "< ho ho di <EOS>\n",
      "\n",
      "> i like the dog\n",
      "= mi piace il cane\n",
      "< ho piace il cane <EOS>\n",
      "\n",
      "> excuse me is tom here today\n",
      "= mi scusi tom e qui oggi\n",
      "< mi qui tom tom tom <EOS>\n",
      "\n",
      "input = I am walking to the store.\n",
      "output = afferri chiamatemi chiamatemi uccelli uccelli <EOS>\n",
      "input = This dinner is delicious.\n",
      "output = alla finisca chiederlo <EOS>\n",
      "input = My mother lived in a white house.\n",
      "output = andate divertente rantolai rantolai rantolai fermatevi uccelli <EOS>\n",
      "input = He has three friends.\n",
      "output = fermati bene rantolai uccelli <EOS>\n",
      "input = I love good red wine.\n",
      "output = afferri dimentichi chiamatemi rantolai sua <EOS>\n"
     ]
    }
   ],
   "source": [
    "# Run GLOVE model on English to Italy translations\n",
    "\n",
    "# TRAIN MODEL\n",
    "####\n",
    "#trainIters(encoder2, attn_decoder2, 8000, print_every=1000,  learning_rate=0.1)\n",
    "trainIters(encoder2, attn_decoder2, 250000, print_every=25000, learning_rate=0.01)\n",
    "\n",
    "# EVALUATE\n",
    "evaluateRandomly(encoder2, attn_decoder2)\n",
    "\n",
    "# TEST ON FIVE SENTENCES\n",
    "evaluateAndShowAttention(\"I am walking to the store.\")\n",
    "evaluateAndShowAttention(\"This dinner is delicious.\")\n",
    "evaluateAndShowAttention(\"My mother lived in a white house.\")\n",
    "evaluateAndShowAttention(\"He has three friends.\")\n",
    "evaluateAndShowAttention(\"I love good red wine.\")\n"
   ]
  },
  {
   "cell_type": "markdown",
   "metadata": {
    "colab_type": "text",
    "id": "M6uN_AG5pJjO"
   },
   "source": [
    "#2.3. Input 5 well formed sentences from the English vocab to Model 2, and input the resultant translated sentences to Model 1. Display all model outputs in each case."
   ]
  },
  {
   "cell_type": "code",
   "execution_count": 45,
   "metadata": {
    "colab": {
     "base_uri": "https://localhost:8080/",
     "height": 153
    },
    "colab_type": "code",
    "id": "KEeF0UOXpGhA",
    "outputId": "547f6d3f-c92b-4e74-9130-8c09791aab70"
   },
   "outputs": [
    {
     "name": "stdout",
     "output_type": "stream",
     "text": [
      "Reading lines...\n",
      "Read 331799 sentence pairs\n",
      "Trimmed to 314351 sentence pairs\n",
      "Counting words...\n",
      "Counted words:\n",
      "eng 12427\n",
      "ita 25472\n",
      "['ive heard it before', 'lho gia sentita']\n"
     ]
    }
   ],
   "source": [
    "# PREPARE DATA TO TRANSLATE FROM ENGLISH TO ITALIAN (set to false, so english is lang 1)\n",
    "\n",
    "#### change language here to ita from itS when do final run\n",
    "input_lang, output_lang, pairs = prepareData('eng', 'ita', False)\n",
    "print(random.choice(pairs))"
   ]
  },
  {
   "cell_type": "code",
   "execution_count": 46,
   "metadata": {
    "colab": {
     "base_uri": "https://localhost:8080/",
     "height": 34
    },
    "colab_type": "code",
    "id": "Bnwz0OUj2DtI",
    "outputId": "fe10b03c-b28c-4e20-8723-cc55ed7ac008"
   },
   "outputs": [
    {
     "name": "stdout",
     "output_type": "stream",
     "text": [
      "English to Italian translation: ho una tempo tempo in \n"
     ]
    }
   ],
   "source": [
    "# run Model 2 (English to Italian Glove model) to generate Italian sentence\n",
    "\n",
    "glove_model = True\n",
    "output_words2, attentions2 = evaluate(encoder2, attn_decoder2, \"i have a big house in the city\")\n",
    "output_words2 = output_words2[0:len(output_words2)-1]\n",
    "outputsentence=\"\"\n",
    "for i in output_words2:\n",
    "    outputsentence += (i+\" \")\n",
    "print('English to Italian translation:', outputsentence)\n"
   ]
  },
  {
   "cell_type": "code",
   "execution_count": 47,
   "metadata": {
    "colab": {
     "base_uri": "https://localhost:8080/",
     "height": 170
    },
    "colab_type": "code",
    "id": "uf0viVFvotlU",
    "outputId": "8b32b376-16f8-4d61-dfb1-99f93932b5fd"
   },
   "outputs": [
    {
     "name": "stdout",
     "output_type": "stream",
     "text": [
      "Reading lines...\n",
      "Reverse is true\n",
      "Read 331799 sentence pairs\n",
      "Trimmed to 314351 sentence pairs\n",
      "Counting words...\n",
      "Counted words:\n",
      "ita 25472\n",
      "eng 12427\n",
      "['ho mal di testa', 'my head hurts']\n"
     ]
    }
   ],
   "source": [
    "# PREPARE DATA TO TRANSLATE FROM ITALIAN TO ENGLISH\n",
    "\n",
    "#### change language here to ita from itS when do final run\n",
    "input_lang, output_lang, pairs = prepareData('eng', 'ita', True)\n",
    "\n",
    "print(random.choice(pairs))"
   ]
  },
  {
   "cell_type": "code",
   "execution_count": 48,
   "metadata": {
    "colab": {
     "base_uri": "https://localhost:8080/",
     "height": 34
    },
    "colab_type": "code",
    "id": "TB4NDOyx2DtU",
    "outputId": "f9794d8f-a05b-4a06-9823-5e976b429195"
   },
   "outputs": [
    {
     "name": "stdout",
     "output_type": "stream",
     "text": [
      "Italian back to English translation: i have a time to time \n"
     ]
    }
   ],
   "source": [
    "# Run Model 1 to translate from Italian to English\n",
    "\n",
    "glove_model = False\n",
    "output_words1, attentions1 = evaluate(\n",
    "    encoder1, attn_decoder1, outputsentence)\n",
    "output_words1 = output_words1[0:len(output_words1)-1]\n",
    "outputsentence1=\"\"\n",
    "for i in output_words1:\n",
    "    outputsentence1 += (i+\" \")\n",
    "print('Italian back to English translation:', outputsentence1)"
   ]
  },
  {
   "cell_type": "code",
   "execution_count": null,
   "metadata": {},
   "outputs": [],
   "source": []
  }
 ],
 "metadata": {
  "accelerator": "GPU",
  "colab": {
   "collapsed_sections": [],
   "machine_shape": "hm",
   "name": "Assgn_3_Q_2_Oct20_4pm.ipynb",
   "provenance": []
  },
  "kernelspec": {
   "display_name": "Python 3",
   "language": "python",
   "name": "python3"
  },
  "language_info": {
   "codemirror_mode": {
    "name": "ipython",
    "version": 3
   },
   "file_extension": ".py",
   "mimetype": "text/x-python",
   "name": "python",
   "nbconvert_exporter": "python",
   "pygments_lexer": "ipython3",
   "version": "3.7.3"
  }
 },
 "nbformat": 4,
 "nbformat_minor": 1
}
